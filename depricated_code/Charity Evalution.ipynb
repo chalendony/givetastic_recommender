{
 "cells": [
  {
   "cell_type": "markdown",
   "metadata": {},
   "source": [
    "# Motivation"
   ]
  },
  {
   "cell_type": "markdown",
   "metadata": {},
   "source": [
    "# Python Imports"
   ]
  },
  {
   "cell_type": "code",
   "execution_count": 1,
   "metadata": {},
   "outputs": [],
   "source": [
    "import pandas as pd\n",
    "\n",
    "%matplotlib inline\n",
    "import matplotlib.pyplot as plt\n",
    "\n",
    "import matplotlib\n",
    "import numpy as np\n",
    "import missingno as msno\n",
    "import altair as alt\n",
    "from vega_datasets import data\n",
    "\n",
    "\n",
    "from sklearn.feature_extraction.text import CountVectorizer\n",
    "from sklearn.feature_extraction.text import TfidfTransformer\n",
    "\n",
    "\n",
    "from sklearn import preprocessing\n",
    "\n",
    "from sklearn.naive_bayes import MultinomialNB\n",
    "from sklearn.ensemble import RandomForestClassifier\n",
    "from sklearn.linear_model import SGDClassifier\n",
    "from sklearn.svm import LinearSVC\n",
    "from sklearn.linear_model import LogisticRegression\n",
    "\n",
    "\n",
    "from sklearn.model_selection import train_test_split\n",
    "from sklearn.pipeline import Pipeline\n",
    "from sklearn.model_selection import GridSearchCV\n",
    "from sklearn.metrics import accuracy_score\n",
    "\n",
    "import re\n",
    "from sklearn.base import BaseEstimator, TransformerMixin\n",
    "import nltk.stem\n"
   ]
  },
  {
   "cell_type": "markdown",
   "metadata": {},
   "source": [
    "# Data Set"
   ]
  },
  {
   "cell_type": "code",
   "execution_count": 2,
   "metadata": {},
   "outputs": [
    {
     "data": {
      "text/html": [
       "<div>\n",
       "<style scoped>\n",
       "    .dataframe tbody tr th:only-of-type {\n",
       "        vertical-align: middle;\n",
       "    }\n",
       "\n",
       "    .dataframe tbody tr th {\n",
       "        vertical-align: top;\n",
       "    }\n",
       "\n",
       "    .dataframe thead th {\n",
       "        text-align: right;\n",
       "    }\n",
       "</style>\n",
       "<table border=\"1\" class=\"dataframe\">\n",
       "  <thead>\n",
       "    <tr style=\"text-align: right;\">\n",
       "      <th></th>\n",
       "      <th>Unnamed: 0</th>\n",
       "      <th>category</th>\n",
       "      <th>cause</th>\n",
       "      <th>charityid</th>\n",
       "      <th>mission</th>\n",
       "      <th>tagline</th>\n",
       "    </tr>\n",
       "  </thead>\n",
       "  <tbody>\n",
       "    <tr>\n",
       "      <th>0</th>\n",
       "      <td>0</td>\n",
       "      <td>arts culture humanities</td>\n",
       "      <td>museums</td>\n",
       "      <td>9745</td>\n",
       "      <td>the utah museum of contemporary art advances a...</td>\n",
       "      <td>utah premiere venue for contemporary art</td>\n",
       "    </tr>\n",
       "    <tr>\n",
       "      <th>1</th>\n",
       "      <td>1</td>\n",
       "      <td>health</td>\n",
       "      <td>diseases disorders and disciplines</td>\n",
       "      <td>8857</td>\n",
       "      <td>the national mps society exists to find cures ...</td>\n",
       "      <td>support for families research for cure</td>\n",
       "    </tr>\n",
       "    <tr>\n",
       "      <th>2</th>\n",
       "      <td>2</td>\n",
       "      <td>health</td>\n",
       "      <td>patient and family support</td>\n",
       "      <td>14464</td>\n",
       "      <td>the ronald mcdonald house of san francisco rmh...</td>\n",
       "      <td>the house that love built</td>\n",
       "    </tr>\n",
       "    <tr>\n",
       "      <th>3</th>\n",
       "      <td>3</td>\n",
       "      <td>human services</td>\n",
       "      <td>social services</td>\n",
       "      <td>4177</td>\n",
       "      <td>the mission of the national federation of the ...</td>\n",
       "      <td>live the life you want</td>\n",
       "    </tr>\n",
       "    <tr>\n",
       "      <th>4</th>\n",
       "      <td>4</td>\n",
       "      <td>animals</td>\n",
       "      <td>zoos and aquariums</td>\n",
       "      <td>3718</td>\n",
       "      <td>the oldest zoo in texas the fort worth zoo was...</td>\n",
       "      <td>strengthening the bond between humans and the ...</td>\n",
       "    </tr>\n",
       "  </tbody>\n",
       "</table>\n",
       "</div>"
      ],
      "text/plain": [
       "   Unnamed: 0                 category                               cause  \\\n",
       "0           0  arts culture humanities                             museums   \n",
       "1           1                   health  diseases disorders and disciplines   \n",
       "2           2                   health          patient and family support   \n",
       "3           3           human services                     social services   \n",
       "4           4                  animals                  zoos and aquariums   \n",
       "\n",
       "   charityid                                            mission  \\\n",
       "0       9745  the utah museum of contemporary art advances a...   \n",
       "1       8857  the national mps society exists to find cures ...   \n",
       "2      14464  the ronald mcdonald house of san francisco rmh...   \n",
       "3       4177  the mission of the national federation of the ...   \n",
       "4       3718  the oldest zoo in texas the fort worth zoo was...   \n",
       "\n",
       "                                             tagline  \n",
       "0           utah premiere venue for contemporary art  \n",
       "1             support for families research for cure  \n",
       "2                          the house that love built  \n",
       "3                             live the life you want  \n",
       "4  strengthening the bond between humans and the ...  "
      ]
     },
     "execution_count": 2,
     "metadata": {},
     "output_type": "execute_result"
    }
   ],
   "source": [
    "df = pd.read_csv('/Users/stewarta/repos/charity-filter-evaluation/evaluation/data/charity_navigator.csv')\n",
    "df.head()"
   ]
  },
  {
   "cell_type": "code",
   "execution_count": 3,
   "metadata": {},
   "outputs": [
    {
     "name": "stdout",
     "output_type": "stream",
     "text": [
      "<class 'pandas.core.frame.DataFrame'>\n",
      "RangeIndex: 9119 entries, 0 to 9118\n",
      "Data columns (total 6 columns):\n",
      "Unnamed: 0    9119 non-null int64\n",
      "category      9119 non-null object\n",
      "cause         9119 non-null object\n",
      "charityid     9119 non-null int64\n",
      "mission       8654 non-null object\n",
      "tagline       8699 non-null object\n",
      "dtypes: int64(2), object(4)\n",
      "memory usage: 427.5+ KB\n"
     ]
    }
   ],
   "source": [
    "df.info()"
   ]
  },
  {
   "cell_type": "markdown",
   "metadata": {},
   "source": [
    "# Preprocess and Explore Data "
   ]
  },
  {
   "cell_type": "markdown",
   "metadata": {},
   "source": [
    "## Uniformative Columns"
   ]
  },
  {
   "cell_type": "code",
   "execution_count": 9,
   "metadata": {},
   "outputs": [
    {
     "name": "stdout",
     "output_type": "stream",
     "text": [
      "Index(['Unnamed: 0', 'category', 'cause', 'charityid', 'mission', 'tagline'], dtype='object')\n"
     ]
    },
    {
     "data": {
      "text/html": [
       "<div>\n",
       "<style scoped>\n",
       "    .dataframe tbody tr th:only-of-type {\n",
       "        vertical-align: middle;\n",
       "    }\n",
       "\n",
       "    .dataframe tbody tr th {\n",
       "        vertical-align: top;\n",
       "    }\n",
       "\n",
       "    .dataframe thead th {\n",
       "        text-align: right;\n",
       "    }\n",
       "</style>\n",
       "<table border=\"1\" class=\"dataframe\">\n",
       "  <thead>\n",
       "    <tr style=\"text-align: right;\">\n",
       "      <th></th>\n",
       "      <th>category</th>\n",
       "      <th>cause</th>\n",
       "      <th>mission</th>\n",
       "      <th>tagline</th>\n",
       "    </tr>\n",
       "  </thead>\n",
       "  <tbody>\n",
       "    <tr>\n",
       "      <th>0</th>\n",
       "      <td>arts culture humanities</td>\n",
       "      <td>museums</td>\n",
       "      <td>the utah museum of contemporary art advances a...</td>\n",
       "      <td>utah premiere venue for contemporary art</td>\n",
       "    </tr>\n",
       "    <tr>\n",
       "      <th>1</th>\n",
       "      <td>health</td>\n",
       "      <td>diseases disorders and disciplines</td>\n",
       "      <td>the national mps society exists to find cures ...</td>\n",
       "      <td>support for families research for cure</td>\n",
       "    </tr>\n",
       "    <tr>\n",
       "      <th>2</th>\n",
       "      <td>health</td>\n",
       "      <td>patient and family support</td>\n",
       "      <td>the ronald mcdonald house of san francisco rmh...</td>\n",
       "      <td>the house that love built</td>\n",
       "    </tr>\n",
       "    <tr>\n",
       "      <th>3</th>\n",
       "      <td>human services</td>\n",
       "      <td>social services</td>\n",
       "      <td>the mission of the national federation of the ...</td>\n",
       "      <td>live the life you want</td>\n",
       "    </tr>\n",
       "    <tr>\n",
       "      <th>4</th>\n",
       "      <td>animals</td>\n",
       "      <td>zoos and aquariums</td>\n",
       "      <td>the oldest zoo in texas the fort worth zoo was...</td>\n",
       "      <td>strengthening the bond between humans and the ...</td>\n",
       "    </tr>\n",
       "  </tbody>\n",
       "</table>\n",
       "</div>"
      ],
      "text/plain": [
       "                  category                               cause  \\\n",
       "0  arts culture humanities                             museums   \n",
       "1                   health  diseases disorders and disciplines   \n",
       "2                   health          patient and family support   \n",
       "3           human services                     social services   \n",
       "4                  animals                  zoos and aquariums   \n",
       "\n",
       "                                             mission  \\\n",
       "0  the utah museum of contemporary art advances a...   \n",
       "1  the national mps society exists to find cures ...   \n",
       "2  the ronald mcdonald house of san francisco rmh...   \n",
       "3  the mission of the national federation of the ...   \n",
       "4  the oldest zoo in texas the fort worth zoo was...   \n",
       "\n",
       "                                             tagline  \n",
       "0           utah premiere venue for contemporary art  \n",
       "1             support for families research for cure  \n",
       "2                          the house that love built  \n",
       "3                             live the life you want  \n",
       "4  strengthening the bond between humans and the ...  "
      ]
     },
     "execution_count": 9,
     "metadata": {},
     "output_type": "execute_result"
    }
   ],
   "source": [
    "print(df.columns)\n",
    "df.drop(['Unnamed: 0','charityid'], axis=1, inplace=True)\n",
    "df.head()"
   ]
  },
  {
   "cell_type": "markdown",
   "metadata": {},
   "source": [
    "## Missing Rows"
   ]
  },
  {
   "cell_type": "markdown",
   "metadata": {},
   "source": [
    "### Visualize Missing Rows"
   ]
  },
  {
   "cell_type": "code",
   "execution_count": 10,
   "metadata": {},
   "outputs": [
    {
     "data": {
      "text/plain": [
       "<matplotlib.axes._subplots.AxesSubplot at 0x1207d51d0>"
      ]
     },
     "execution_count": 10,
     "metadata": {},
     "output_type": "execute_result"
    },
    {
     "data": {
      "image/png": "[encoded data removed]",
      "text/plain": [
       "<Figure size 1800x720 with 2 Axes>"
      ]
     },
     "metadata": {
      "needs_background": "light"
     },
     "output_type": "display_data"
    }
   ],
   "source": [
    "msno.matrix(df)"
   ]
  },
  {
   "cell_type": "markdown",
   "metadata": {},
   "source": [
    "### Drop Missing Rows"
   ]
  },
  {
   "cell_type": "code",
   "execution_count": 3,
   "metadata": {},
   "outputs": [
    {
     "name": "stdout",
     "output_type": "stream",
     "text": [
      "<class 'pandas.core.frame.DataFrame'>\n",
      "Int64Index: 8638 entries, 0 to 9118\n",
      "Data columns (total 6 columns):\n",
      "Unnamed: 0    8638 non-null int64\n",
      "category      8638 non-null object\n",
      "cause         8638 non-null object\n",
      "charityid     8638 non-null int64\n",
      "mission       8638 non-null object\n",
      "tagline       8638 non-null object\n",
      "dtypes: int64(2), object(4)\n",
      "memory usage: 472.4+ KB\n"
     ]
    }
   ],
   "source": [
    "## Drop Empty Rows\n",
    "df.dropna(axis=0, how='any', inplace=True)\n",
    "df.info()"
   ]
  },
  {
   "cell_type": "markdown",
   "metadata": {},
   "source": [
    "## Check Class Balance\n",
    "\n",
    "We can upsample to handle the class imbalance or use an algorithm (e.g.: Tree-based) that is insensitve to the class imbalance."
   ]
  },
  {
   "cell_type": "code",
   "execution_count": 5,
   "metadata": {},
   "outputs": [],
   "source": [
    "pic = pd.DataFrame(df['category'].value_counts())"
   ]
  },
  {
   "cell_type": "code",
   "execution_count": 6,
   "metadata": {},
   "outputs": [],
   "source": [
    "pic['name'] = pic.index.values.tolist()"
   ]
  },
  {
   "cell_type": "code",
   "execution_count": 49,
   "metadata": {},
   "outputs": [
    {
     "data": {
      "text/html": [
       "<div>\n",
       "<style scoped>\n",
       "    .dataframe tbody tr th:only-of-type {\n",
       "        vertical-align: middle;\n",
       "    }\n",
       "\n",
       "    .dataframe tbody tr th {\n",
       "        vertical-align: top;\n",
       "    }\n",
       "\n",
       "    .dataframe thead th {\n",
       "        text-align: right;\n",
       "    }\n",
       "</style>\n",
       "<table border=\"1\" class=\"dataframe\">\n",
       "  <thead>\n",
       "    <tr style=\"text-align: right;\">\n",
       "      <th></th>\n",
       "      <th>category</th>\n",
       "    </tr>\n",
       "  </thead>\n",
       "  <tbody>\n",
       "    <tr>\n",
       "      <th>human services</th>\n",
       "      <td>2430</td>\n",
       "    </tr>\n",
       "    <tr>\n",
       "      <th>arts culture humanities</th>\n",
       "      <td>1228</td>\n",
       "    </tr>\n",
       "    <tr>\n",
       "      <th>health</th>\n",
       "      <td>894</td>\n",
       "    </tr>\n",
       "    <tr>\n",
       "      <th>community development</th>\n",
       "      <td>807</td>\n",
       "    </tr>\n",
       "    <tr>\n",
       "      <th>education</th>\n",
       "      <td>671</td>\n",
       "    </tr>\n",
       "    <tr>\n",
       "      <th>international</th>\n",
       "      <td>626</td>\n",
       "    </tr>\n",
       "    <tr>\n",
       "      <th>animals</th>\n",
       "      <td>485</td>\n",
       "    </tr>\n",
       "    <tr>\n",
       "      <th>religion</th>\n",
       "      <td>465</td>\n",
       "    </tr>\n",
       "    <tr>\n",
       "      <th>environment</th>\n",
       "      <td>447</td>\n",
       "    </tr>\n",
       "    <tr>\n",
       "      <th>human and civil rights</th>\n",
       "      <td>370</td>\n",
       "    </tr>\n",
       "    <tr>\n",
       "      <th>research and public policy</th>\n",
       "      <td>215</td>\n",
       "    </tr>\n",
       "  </tbody>\n",
       "</table>\n",
       "</div>"
      ],
      "text/plain": [
       "                            category\n",
       "human services                  2430\n",
       "arts culture humanities         1228\n",
       "health                           894\n",
       "community development            807\n",
       "education                        671\n",
       "international                    626\n",
       "animals                          485\n",
       "religion                         465\n",
       "environment                      447\n",
       "human and civil rights           370\n",
       "research and public policy       215"
      ]
     },
     "execution_count": 49,
     "metadata": {},
     "output_type": "execute_result"
    }
   ],
   "source": [
    "pic"
   ]
  },
  {
   "cell_type": "code",
   "execution_count": 7,
   "metadata": {},
   "outputs": [
    {
     "data": {
      "application/vnd.vegalite.v3+json": {
       "$schema": "https://vega.github.io/schema/vega-lite/v3.2.1.json",
       "config": {
        "mark": {
         "tooltip": null
        },
        "view": {
         "height": 300,
         "width": 400
        }
       },
       "datasets": {
        "data-dc2a56c3f5d5c6156172087c7d310d3c": [
         {
          "category": 2430,
          "name": "human services"
         },
         {
          "category": 1228,
          "name": "arts culture humanities"
         },
         {
          "category": 894,
          "name": "health"
         },
         {
          "category": 807,
          "name": "community development"
         },
         {
          "category": 671,
          "name": "education"
         },
         {
          "category": 626,
          "name": "international"
         },
         {
          "category": 485,
          "name": "animals"
         },
         {
          "category": 465,
          "name": "religion"
         },
         {
          "category": 447,
          "name": "environment"
         },
         {
          "category": 370,
          "name": "human and civil rights"
         },
         {
          "category": 215,
          "name": "research and public policy"
         }
        ]
       },
       "height": 200,
       "layer": [
        {
         "data": {
          "name": "data-dc2a56c3f5d5c6156172087c7d310d3c"
         },
         "encoding": {
          "x": {
           "field": "category",
           "type": "quantitative"
          },
          "y": {
           "field": "name",
           "sort": {
            "field": "category",
            "order": "ascending"
           },
           "type": "ordinal"
          }
         },
         "mark": "bar"
        },
        {
         "data": {
          "name": "data-dc2a56c3f5d5c6156172087c7d310d3c"
         },
         "encoding": {
          "text": {
           "field": "category",
           "type": "quantitative"
          },
          "x": {
           "field": "category",
           "type": "quantitative"
          },
          "y": {
           "field": "name",
           "sort": {
            "field": "category",
            "order": "ascending"
           },
           "type": "ordinal"
          }
         },
         "mark": {
          "align": "left",
          "baseline": "middle",
          "dx": 3,
          "type": "text"
         }
        }
       ]
      },
      "image/png": "[encoded data removed]",
      "text/plain": [
       "<VegaLite 3 object>\n",
       "\n",
       "If you see this message, it means the renderer has not been properly enabled\n",
       "for the frontend that you are using. For more information, see\n",
       "https://altair-viz.github.io/user_guide/troubleshooting.html\n"
      ]
     },
     "execution_count": 7,
     "metadata": {},
     "output_type": "execute_result"
    }
   ],
   "source": [
    "source = pic\n",
    "\n",
    "bars = alt.Chart(source).mark_bar().encode(\n",
    "     x='category:Q',\n",
    "     y=alt.Y(\n",
    "        \"name:O\",\n",
    "        sort=alt.EncodingSortField(\n",
    "            field=\"category\",  # The field to use for the sort\n",
    "            #op=\"sum\",  # The operation to run on the field prior to sorting\n",
    "            order=\"ascending\"  # The order to sort in\n",
    "        )\n",
    "    )\n",
    ")\n",
    "\n",
    "text = bars.mark_text(\n",
    "    align='left',\n",
    "    baseline='middle',\n",
    "    dx=3  # Nudges text to right so it doesn't appear on top of the bar\n",
    ").encode(\n",
    "    text='category:Q'\n",
    ")\n",
    "\n",
    "(bars + text).properties(height=200)"
   ]
  },
  {
   "cell_type": "markdown",
   "metadata": {},
   "source": [
    "# Subset Data for Analysis\n",
    "\n",
    "Use a subset of the data for analysis"
   ]
  },
  {
   "cell_type": "code",
   "execution_count": 14,
   "metadata": {},
   "outputs": [],
   "source": [
    "target_lst = ['museums', 'united ways' ,'development and relief services',\n",
    "              'advocacy and education','children and family services']"
   ]
  },
  {
   "cell_type": "code",
   "execution_count": 15,
   "metadata": {},
   "outputs": [],
   "source": [
    "df = df.loc[df['cause'].isin(target_lst)]"
   ]
  },
  {
   "cell_type": "markdown",
   "metadata": {
    "toc-hr-collapsed": false
   },
   "source": [
    "# Extraction Features"
   ]
  },
  {
   "cell_type": "markdown",
   "metadata": {},
   "source": [
    "## Encode Target \n"
   ]
  },
  {
   "cell_type": "code",
   "execution_count": 16,
   "metadata": {},
   "outputs": [
    {
     "data": {
      "text/plain": [
       "3    397\n",
       "4    395\n",
       "2    388\n",
       "0    370\n",
       "1    356\n",
       "Name: target, dtype: int64"
      ]
     },
     "execution_count": 16,
     "metadata": {},
     "output_type": "execute_result"
    }
   ],
   "source": [
    "target = 'cause'\n",
    "\n",
    "le = preprocessing.LabelEncoder()\n",
    "le.fit(df[target])\n",
    "#print(le.classes_)\n",
    "df['target'] = le.transform(df[target]) \n",
    "df['target'].value_counts()[0:10]"
   ]
  },
  {
   "cell_type": "markdown",
   "metadata": {},
   "source": [
    "## Apply Custom Analyzer\n",
    "\n",
    "The data set contains many mention to year and organization was founded, which we will not be important for matching news articles. All numbers were remove with regex as a preprocessing step.\n",
    "\n",
    "In addition, many words appear duplicated due to variations on the ending of the word. Endings were stemmed using  Snowball stemming for NLTK package\n",
    "\n",
    "stop : 9514\n",
    "doc freq: 6780\n",
    "remove number: 6486\n",
    "stem : 4388"
   ]
  },
  {
   "cell_type": "markdown",
   "metadata": {},
   "source": [
    "### Aggregate Text Fields"
   ]
  },
  {
   "cell_type": "code",
   "execution_count": 8,
   "metadata": {},
   "outputs": [
    {
     "data": {
      "text/html": [
       "<div>\n",
       "<style scoped>\n",
       "    .dataframe tbody tr th:only-of-type {\n",
       "        vertical-align: middle;\n",
       "    }\n",
       "\n",
       "    .dataframe tbody tr th {\n",
       "        vertical-align: top;\n",
       "    }\n",
       "\n",
       "    .dataframe thead th {\n",
       "        text-align: right;\n",
       "    }\n",
       "</style>\n",
       "<table border=\"1\" class=\"dataframe\">\n",
       "  <thead>\n",
       "    <tr style=\"text-align: right;\">\n",
       "      <th></th>\n",
       "      <th>Unnamed: 0</th>\n",
       "      <th>cause</th>\n",
       "      <th>charityid</th>\n",
       "      <th>corpus</th>\n",
       "    </tr>\n",
       "  </thead>\n",
       "  <tbody>\n",
       "    <tr>\n",
       "      <th>0</th>\n",
       "      <td>0</td>\n",
       "      <td>museums</td>\n",
       "      <td>9745</td>\n",
       "      <td>the utah museum of contemporary art advances a...</td>\n",
       "    </tr>\n",
       "    <tr>\n",
       "      <th>1</th>\n",
       "      <td>1</td>\n",
       "      <td>diseases disorders and disciplines</td>\n",
       "      <td>8857</td>\n",
       "      <td>the national mps society exists to find cures ...</td>\n",
       "    </tr>\n",
       "    <tr>\n",
       "      <th>2</th>\n",
       "      <td>2</td>\n",
       "      <td>patient and family support</td>\n",
       "      <td>14464</td>\n",
       "      <td>the ronald mcdonald house of san francisco rmh...</td>\n",
       "    </tr>\n",
       "    <tr>\n",
       "      <th>3</th>\n",
       "      <td>3</td>\n",
       "      <td>social services</td>\n",
       "      <td>4177</td>\n",
       "      <td>the mission of the national federation of the ...</td>\n",
       "    </tr>\n",
       "    <tr>\n",
       "      <th>4</th>\n",
       "      <td>4</td>\n",
       "      <td>zoos and aquariums</td>\n",
       "      <td>3718</td>\n",
       "      <td>the oldest zoo in texas the fort worth zoo was...</td>\n",
       "    </tr>\n",
       "  </tbody>\n",
       "</table>\n",
       "</div>"
      ],
      "text/plain": [
       "   Unnamed: 0                               cause  charityid  \\\n",
       "0           0                             museums       9745   \n",
       "1           1  diseases disorders and disciplines       8857   \n",
       "2           2          patient and family support      14464   \n",
       "3           3                     social services       4177   \n",
       "4           4                  zoos and aquariums       3718   \n",
       "\n",
       "                                              corpus  \n",
       "0  the utah museum of contemporary art advances a...  \n",
       "1  the national mps society exists to find cures ...  \n",
       "2  the ronald mcdonald house of san francisco rmh...  \n",
       "3  the mission of the national federation of the ...  \n",
       "4  the oldest zoo in texas the fort worth zoo was...  "
      ]
     },
     "execution_count": 8,
     "metadata": {},
     "output_type": "execute_result"
    }
   ],
   "source": [
    "# merge text to create a document\n",
    "df['corpus'] = df.mission + df.tagline + df.category\n",
    "# drop other columns, convenience\n",
    "df.drop(['mission', 'tagline', 'category'], axis=1, inplace=True)\n",
    "\n",
    "df.head()"
   ]
  },
  {
   "cell_type": "code",
   "execution_count": 13,
   "metadata": {},
   "outputs": [
    {
     "data": {
      "text/plain": [
       "(8638, 4)"
      ]
     },
     "execution_count": 13,
     "metadata": {},
     "output_type": "execute_result"
    }
   ],
   "source": [
    "df.shape"
   ]
  },
  {
   "cell_type": "code",
   "execution_count": 17,
   "metadata": {},
   "outputs": [
    {
     "name": "stdout",
     "output_type": "stream",
     "text": [
      "12456\n"
     ]
    }
   ],
   "source": [
    "vectorizer = CountVectorizer()\n",
    "X = vectorizer.fit_transform(df.corpus)\n",
    "print(len(vectorizer.get_feature_names()))"
   ]
  },
  {
   "cell_type": "code",
   "execution_count": 18,
   "metadata": {},
   "outputs": [
    {
     "data": {
      "text/plain": [
       "(1906, 5)"
      ]
     },
     "execution_count": 18,
     "metadata": {},
     "output_type": "execute_result"
    }
   ],
   "source": [
    "df.shape"
   ]
  },
  {
   "cell_type": "markdown",
   "metadata": {
    "slideshow": {
     "slide_type": "slide"
    }
   },
   "source": [
    "### Stem Words and Filter Integers"
   ]
  },
  {
   "cell_type": "code",
   "execution_count": 16,
   "metadata": {},
   "outputs": [],
   "source": [
    "# preprocessing step \n",
    "def drop_integers(s):\n",
    "    return re.sub(r'\\d+', '', s)"
   ]
  },
  {
   "cell_type": "code",
   "execution_count": 17,
   "metadata": {},
   "outputs": [],
   "source": [
    "# stemmer\n",
    "english_stemmer = nltk.stem.SnowballStemmer('english')\n",
    "\n",
    "def stemmer(doc):\n",
    "    return [porter_stemmer.stem(w) for w in analyzer(doc)]\n",
    "\n",
    "class StemmedCountVectorizer(CountVectorizer):\n",
    "    def build_analyzer(self):\n",
    "        analyzer = super(StemmedCountVectorizer, self).build_analyzer()\n",
    "        # will need to rewrite if pickled - due to lambda\n",
    "        return lambda doc: ([english_stemmer.stem(w) for w in analyzer(doc)])\n",
    "   "
   ]
  },
  {
   "cell_type": "code",
   "execution_count": 18,
   "metadata": {},
   "outputs": [
    {
     "name": "stdout",
     "output_type": "stream",
     "text": [
      "(1906, 1867)\n",
      "['abandon', 'abil', 'abl', 'abort', 'abroad', 'abus', 'abusehuman', 'academ', 'academi', 'accept', 'access', 'acclaim', 'accomplish', 'accord', 'account', 'accredit', 'accur', 'achiev', 'aclu', 'acquir']\n"
     ]
    }
   ],
   "source": [
    "vectorizer_s = StemmedCountVectorizer(min_df=5,  preprocessor=drop_integers,\n",
    "                                      analyzer='word', stop_words='english') \n",
    "\n",
    "X = vectorizer_s.fit_transform(df.corpus)\n",
    "print(X.shape)\n",
    "print(vectorizer_s.get_feature_names()[0:20])"
   ]
  },
  {
   "cell_type": "code",
   "execution_count": 19,
   "metadata": {},
   "outputs": [
    {
     "name": "stdout",
     "output_type": "stream",
     "text": [
      "(1906, 1867)\n",
      "  (0, 1807)\t0.1541249284587658\n",
      "  (0, 1786)\t0.2267533011623153\n",
      "  (0, 1775)\t0.4769691023979484\n",
      "  (0, 1664)\t0.19650988684357845\n",
      "  (0, 1603)\t0.19506506787097247\n",
      "  (0, 1331)\t0.18108536782820472\n",
      "  (0, 1164)\t0.10003609683356515\n",
      "  (0, 1009)\t0.1302599890735798\n",
      "  (0, 950)\t0.12482613414500161\n",
      "  (0, 917)\t0.13521390822121357\n",
      "  (0, 858)\t0.07682922351657642\n",
      "  (0, 628)\t0.2205993357810796\n",
      "  (0, 598)\t0.13124899241125457\n",
      "  (0, 547)\t0.2434036022307188\n",
      "  (0, 470)\t0.21786933432061167\n",
      "  (0, 408)\t0.1778105901141414\n",
      "  (0, 364)\t0.46520864539121537\n",
      "  (0, 321)\t0.06170245235687211\n",
      "  (0, 112)\t0.17739847719972426\n",
      "  (0, 111)\t0.22546613864971732\n",
      "  (0, 39)\t0.119907083113257\n",
      "  (1, 1854)\t0.18319507138581564\n",
      "  (1, 1776)\t0.19800917495020406\n",
      "  (1, 1774)\t0.13408411214334748\n",
      "  (1, 1758)\t0.178097721501643\n",
      "  :\t:\n",
      "  (1905, 1005)\t0.08583886857036259\n",
      "  (1905, 971)\t0.1590118035975813\n",
      "  (1905, 917)\t0.08080120299115248\n",
      "  (1905, 893)\t0.21800322753312967\n",
      "  (1905, 888)\t0.11682219765635363\n",
      "  (1905, 884)\t0.07421949041715067\n",
      "  (1905, 825)\t0.1087950282809598\n",
      "  (1905, 715)\t0.08047016262825127\n",
      "  (1905, 710)\t0.04856011634981033\n",
      "  (1905, 679)\t0.11493569668829208\n",
      "  (1905, 515)\t0.14545326092080563\n",
      "  (1905, 403)\t0.09605998510740925\n",
      "  (1905, 374)\t0.11066159098029209\n",
      "  (1905, 321)\t0.036872186031209966\n",
      "  (1905, 284)\t0.11413176344350348\n",
      "  (1905, 249)\t0.05971554005359049\n",
      "  (1905, 230)\t0.2603889576090977\n",
      "  (1905, 191)\t0.12024458256835084\n",
      "  (1905, 158)\t0.0897270183358373\n",
      "  (1905, 136)\t0.10654035928450158\n",
      "  (1905, 126)\t0.07588897233416458\n",
      "  (1905, 89)\t0.09324589075953915\n",
      "  (1905, 61)\t0.08997860700897417\n",
      "  (1905, 55)\t0.07459367114180275\n",
      "  (1905, 45)\t0.07446823621958053\n"
     ]
    }
   ],
   "source": [
    "vectorizer = TfidfTransformer()\n",
    "X_tfidf = vectorizer.fit_transform(X)\n",
    "print(X_tfidf.shape)\n",
    "print(X_tfidf)"
   ]
  },
  {
   "cell_type": "markdown",
   "metadata": {},
   "source": [
    "# Create Train and Test Sets\n",
    "\n",
    "Dont forget to shuffle the data"
   ]
  },
  {
   "cell_type": "code",
   "execution_count": 25,
   "metadata": {},
   "outputs": [],
   "source": [
    "seed = 2\n",
    "X_train, X_test, y_train, y_test = train_test_split(df.corpus, df.target,\n",
    "                                                    test_size=0.20,\n",
    "                                                    random_state=seed, \n",
    "                                                    shuffle=True)"
   ]
  },
  {
   "cell_type": "markdown",
   "metadata": {},
   "source": [
    "# Define Pipelines"
   ]
  },
  {
   "cell_type": "code",
   "execution_count": 26,
   "metadata": {},
   "outputs": [],
   "source": [
    "NB_pipeline = Pipeline([\n",
    "    ('vect', StemmedCountVectorizer()),\n",
    "    ('tfidf', TfidfTransformer()),\n",
    "    ('clf', MultinomialNB(alpha=0.01)),\n",
    "])\n",
    "\n",
    "LR_pipeline = Pipeline([\n",
    "    ('vect', StemmedCountVectorizer()),\n",
    "    ('tfidf', TfidfTransformer()),\n",
    "    ('clf', LogisticRegression(random_state=0, solver='lbfgs',\n",
    "                               multi_class='multinomial')),\n",
    "])\n",
    "\n",
    "SVC_pipeline = Pipeline([\n",
    "    ('vect', StemmedCountVectorizer()),\n",
    "    ('tfidf', TfidfTransformer()),\n",
    "    ('clf', LinearSVC()),\n",
    "])\n",
    "\n",
    "RF_pipeline = Pipeline([\n",
    "    ('vect', StemmedCountVectorizer()),\n",
    "    ('tfidf', TfidfTransformer()),\n",
    "    ('clf', RandomForestClassifier(n_estimators=100, \n",
    "                                   max_depth=2)),\n",
    "])\n",
    "\n",
    "SGD_pipeline = Pipeline([\n",
    "    ('vect', StemmedCountVectorizer()),\n",
    "    ('tfidf', TfidfTransformer()),\n",
    "    ('clf', SGDClassifier(max_iter=1000, tol=1e-3)),\n",
    "])"
   ]
  },
  {
   "cell_type": "code",
   "execution_count": 27,
   "metadata": {},
   "outputs": [
    {
     "name": "stdout",
     "output_type": "stream",
     "text": [
      "Test accuracy is 0.9528795811518325\n"
     ]
    }
   ],
   "source": [
    "## naive bayes\n",
    "NB_pipeline.fit(X_train, y_train)\n",
    "predictionNB = NB_pipeline.predict(X_test)\n",
    "print('Test accuracy is {}'.format(accuracy_score(y_test, predictionNB)))"
   ]
  },
  {
   "cell_type": "code",
   "execution_count": 28,
   "metadata": {},
   "outputs": [
    {
     "name": "stdout",
     "output_type": "stream",
     "text": [
      "Test accuracy is 0.9581151832460733\n"
     ]
    }
   ],
   "source": [
    "## Logistic Regression\n",
    "LR_pipeline.fit(X_train, y_train)\n",
    "preditionLR = LR_pipeline.predict(X_test)\n",
    "print('Test accuracy is {}'.format(accuracy_score(y_test,preditionLR)))"
   ]
  },
  {
   "cell_type": "code",
   "execution_count": 29,
   "metadata": {},
   "outputs": [
    {
     "name": "stdout",
     "output_type": "stream",
     "text": [
      "Test accuracy is 0.9659685863874345\n"
     ]
    }
   ],
   "source": [
    "## Suport Vector\n",
    "SVC_pipeline.fit(X_train, y_train)\n",
    "preditionSVC = SVC_pipeline.predict(X_test)\n",
    "print('Test accuracy is {}'.format(accuracy_score(y_test,preditionSVC)))"
   ]
  },
  {
   "cell_type": "code",
   "execution_count": 31,
   "metadata": {},
   "outputs": [
    {
     "name": "stdout",
     "output_type": "stream",
     "text": [
      "Test accuracy is 0.9685863874345549\n"
     ]
    }
   ],
   "source": [
    "SGD_pipeline.fit(X_train,y_train)\n",
    "predictionSGD = SGD_pipeline.predict(X_test)\n",
    "print('Test accuracy is {}'.format(accuracy_score(y_test, predictionSGD)))"
   ]
  },
  {
   "cell_type": "code",
   "execution_count": 32,
   "metadata": {},
   "outputs": [
    {
     "name": "stdout",
     "output_type": "stream",
     "text": [
      "Test accuracy is 0.8089005235602095\n"
     ]
    }
   ],
   "source": [
    "# random forest\n",
    "RF_pipeline.fit(X_train,y_train)\n",
    "predictionRF = RF_pipeline.predict(X_test)\n",
    "print('Test accuracy is {}'.format(accuracy_score(y_test, predictionRF)))"
   ]
  },
  {
   "cell_type": "code",
   "execution_count": 36,
   "metadata": {},
   "outputs": [
    {
     "data": {
      "text/html": [
       "<div>\n",
       "<style scoped>\n",
       "    .dataframe tbody tr th:only-of-type {\n",
       "        vertical-align: middle;\n",
       "    }\n",
       "\n",
       "    .dataframe tbody tr th {\n",
       "        vertical-align: top;\n",
       "    }\n",
       "\n",
       "    .dataframe thead th {\n",
       "        text-align: right;\n",
       "    }\n",
       "</style>\n",
       "<table border=\"1\" class=\"dataframe\">\n",
       "  <thead>\n",
       "    <tr style=\"text-align: right;\">\n",
       "      <th></th>\n",
       "      <th>Algorithm</th>\n",
       "      <th>Accuracy</th>\n",
       "    </tr>\n",
       "  </thead>\n",
       "  <tbody>\n",
       "    <tr>\n",
       "      <th>0</th>\n",
       "      <td>naive_bayes</td>\n",
       "      <td>0.95</td>\n",
       "    </tr>\n",
       "    <tr>\n",
       "      <th>1</th>\n",
       "      <td>logistic_regression</td>\n",
       "      <td>0.96</td>\n",
       "    </tr>\n",
       "    <tr>\n",
       "      <th>2</th>\n",
       "      <td>support_vector</td>\n",
       "      <td>0.96</td>\n",
       "    </tr>\n",
       "    <tr>\n",
       "      <th>3</th>\n",
       "      <td>gradient_descent</td>\n",
       "      <td>0.97</td>\n",
       "    </tr>\n",
       "    <tr>\n",
       "      <th>4</th>\n",
       "      <td>random_forest</td>\n",
       "      <td>0.81</td>\n",
       "    </tr>\n",
       "  </tbody>\n",
       "</table>\n",
       "</div>"
      ],
      "text/plain": [
       "             Algorithm  Accuracy\n",
       "0          naive_bayes      0.95\n",
       "1  logistic_regression      0.96\n",
       "2       support_vector      0.96\n",
       "3     gradient_descent      0.97\n",
       "4        random_forest      0.81"
      ]
     },
     "execution_count": 36,
     "metadata": {},
     "output_type": "execute_result"
    }
   ],
   "source": [
    "results = {'Algorithm': ['naive_bayes', 'logistic_regression','support_vector','gradient_descent','random_forest' ],\n",
    "           'Accuracy': [0.95,0.96,0.96,0.97,0.81] }\n",
    "res_df = pd.DataFrame(results)\n",
    "res_df.head()"
   ]
  },
  {
   "cell_type": "code",
   "execution_count": 52,
   "metadata": {},
   "outputs": [
    {
     "name": "stdout",
     "output_type": "stream",
     "text": [
      "<class 'pandas.core.frame.DataFrame'>\n",
      "RangeIndex: 5 entries, 0 to 4\n",
      "Data columns (total 2 columns):\n",
      "Algorithm    5 non-null object\n",
      "Accuracy     5 non-null float64\n",
      "dtypes: float64(1), object(1)\n",
      "memory usage: 160.0+ bytes\n"
     ]
    }
   ],
   "source": [
    "res_df.info()"
   ]
  },
  {
   "cell_type": "code",
   "execution_count": 54,
   "metadata": {},
   "outputs": [
    {
     "data": {
      "application/vnd.vegalite.v3+json": {
       "$schema": "https://vega.github.io/schema/vega-lite/v3.2.1.json",
       "config": {
        "mark": {
         "tooltip": null
        },
        "view": {
         "height": 300,
         "width": 400
        }
       },
       "datasets": {
        "data-d1d1f54c5a9cf289afa7520610c541a9": [
         {
          "Accuracy": 0.95,
          "Algorithm": "naive_bayes"
         },
         {
          "Accuracy": 0.96,
          "Algorithm": "logistic_regression"
         },
         {
          "Accuracy": 0.96,
          "Algorithm": "support_vector"
         },
         {
          "Accuracy": 0.97,
          "Algorithm": "gradient_descent"
         },
         {
          "Accuracy": 0.81,
          "Algorithm": "random_forest"
         }
        ]
       },
       "height": 200,
       "layer": [
        {
         "data": {
          "name": "data-d1d1f54c5a9cf289afa7520610c541a9"
         },
         "encoding": {
          "x": {
           "field": "Accuracy",
           "type": "quantitative"
          },
          "y": {
           "field": "Algorithm",
           "sort": {
            "field": "Accuracy",
            "order": "descending"
           },
           "type": "nominal"
          }
         },
         "mark": "bar"
        },
        {
         "data": {
          "name": "data-d1d1f54c5a9cf289afa7520610c541a9"
         },
         "encoding": {
          "text": {
           "field": "Accuracy",
           "type": "quantitative"
          },
          "x": {
           "field": "Accuracy",
           "type": "quantitative"
          },
          "y": {
           "field": "Algorithm",
           "sort": {
            "field": "Accuracy",
            "order": "descending"
           },
           "type": "nominal"
          }
         },
         "mark": {
          "align": "left",
          "baseline": "middle",
          "dx": 3,
          "type": "text"
         }
        }
       ]
      },
      "image/png": "[encoded data removed]",
      "text/plain": [
       "<VegaLite 3 object>\n",
       "\n",
       "If you see this message, it means the renderer has not been properly enabled\n",
       "for the frontend that you are using. For more information, see\n",
       "https://altair-viz.github.io/user_guide/troubleshooting.html\n"
      ]
     },
     "execution_count": 54,
     "metadata": {},
     "output_type": "execute_result"
    }
   ],
   "source": [
    "#Data Type\tShorthand Code\tDescription\n",
    "#quantitative\tQ\ta continuous real-valued quantity\n",
    "#ordinal\tO\ta discrete ordered quantity\n",
    "#nominal\tN\ta discrete unordered category\n",
    "#temporal\tT\ta time or date value\n",
    "\n",
    "source = res_df\n",
    "\n",
    "bars = alt.Chart(source).mark_bar().encode(\n",
    "     x='Accuracy:Q',\n",
    "     y=alt.Y(\"Algorithm:N\",\n",
    "             sort=alt.EncodingSortField(\n",
    "                 field=\"Accuracy\",  # The field to use for the sort\n",
    "                 order=\"descending\"  # The order to sort in\n",
    "             )\n",
    "            )\n",
    ")\n",
    "\n",
    "text = bars.mark_text(\n",
    "    align='left',\n",
    "    baseline='middle',\n",
    "    dx=3  # Nudges text to right so it doesn't appear on top of the bar\n",
    ").encode(\n",
    "    text='Accuracy:Q'\n",
    ")\n",
    "\n",
    "(bars + text).properties(height=200)"
   ]
  },
  {
   "cell_type": "markdown",
   "metadata": {},
   "source": [
    "# Configure Grid Search"
   ]
  },
  {
   "cell_type": "markdown",
   "metadata": {},
   "source": [
    "## Define Grid Parameters"
   ]
  },
  {
   "cell_type": "code",
   "execution_count": 21,
   "metadata": {},
   "outputs": [],
   "source": [
    "# Set grid search params\n",
    "param_range = [1, 3]\n",
    "\n",
    "grid_params_mnb = [{\n",
    "    'vect__ngram_range': [(1, 1)],\n",
    "    'clf__fit_prior': (True, False),\n",
    "}] \n",
    "\n",
    "\n",
    "grid_params_svm = [{\n",
    "    'vect__ngram_range': [(1, 1)],\n",
    "    'clf__C': param_range,\n",
    "}]\n",
    "\n",
    "grid_params_sgd = [{\n",
    "    'vect__ngram_range': [(1, 1)],\n",
    "    'clf__penalty': ['l2'],\n",
    "    'clf__loss' : ('hinge'),\n",
    "    'clf__alpha': (1e-2, 1e-3),\n",
    "}]"
   ]
  },
  {
   "cell_type": "markdown",
   "metadata": {
    "toc-hr-collapsed": false
   },
   "source": [
    "## Initialize Grid "
   ]
  },
  {
   "cell_type": "code",
   "execution_count": 22,
   "metadata": {},
   "outputs": [],
   "source": [
    "# Construct grid objects\n",
    "\n",
    "gs_mnb = GridSearchCV(\n",
    "    estimator=pipe_mnb,\n",
    "    param_grid=grid_params_mnb,\n",
    "    scoring='accuracy',\n",
    "    cv=10) \n",
    "\n",
    "gs_svm = GridSearchCV(\n",
    "    estimator=pipe_svm,\n",
    "    param_grid=grid_params_svm,\n",
    "    scoring='accuracy',\n",
    "    cv=10)\n",
    "\n",
    "gs_sgd = GridSearchCV(\n",
    "    estimator=pipe_sgd,\n",
    "    param_grid=grid_params_sgd,\n",
    "    scoring='accuracy',\n",
    "    cv=10, \n",
    "    n_jobs=jobs)\n",
    "\n",
    "# List of pipelines for ease of iteration\n",
    "#grids = [gs_mnb, gs_svm, gs_sgd]\n",
    "grids = [gs_sgd]\n",
    "\n",
    "# Dictionary of pipelines and classifier types for ease of reference\n",
    "#grid_dict = {0: 'Multinomial Naive Bayes', 1: 'Support Vector Machine', \n",
    "#             2: 'Stocastic Gradient Descent'}\n",
    "\n",
    "grid_dict = {0: 'Stocastic Gradient Descent'}"
   ]
  },
  {
   "cell_type": "markdown",
   "metadata": {},
   "source": [
    "# Build Model and Evaluate Performance "
   ]
  },
  {
   "cell_type": "code",
   "execution_count": 23,
   "metadata": {},
   "outputs": [
    {
     "name": "stdout",
     "output_type": "stream",
     "text": [
      "Performing model optimizations...\n",
      "\n",
      "Estimator: Stocastic Gradient Descent\n"
     ]
    },
    {
     "ename": "TypeError",
     "evalue": "super(type, obj): obj must be an instance or subtype of type",
     "output_type": "error",
     "traceback": [
      "\u001b[0;31m---------------------------------------------------------------------------\u001b[0m",
      "\u001b[0;31m_RemoteTraceback\u001b[0m                          Traceback (most recent call last)",
      "\u001b[0;31m_RemoteTraceback\u001b[0m: \n\"\"\"\nTraceback (most recent call last):\n  File \"/Users/stewarta/repos/charity-filter-evaluation/char-env/lib/python3.7/site-packages/sklearn/externals/joblib/externals/loky/process_executor.py\", line 418, in _process_worker\n    r = call_item()\n  File \"/Users/stewarta/repos/charity-filter-evaluation/char-env/lib/python3.7/site-packages/sklearn/externals/joblib/externals/loky/process_executor.py\", line 272, in __call__\n    return self.fn(*self.args, **self.kwargs)\n  File \"/Users/stewarta/repos/charity-filter-evaluation/char-env/lib/python3.7/site-packages/sklearn/externals/joblib/_parallel_backends.py\", line 567, in __call__\n    return self.func(*args, **kwargs)\n  File \"/Users/stewarta/repos/charity-filter-evaluation/char-env/lib/python3.7/site-packages/sklearn/externals/joblib/parallel.py\", line 225, in __call__\n    for func, args, kwargs in self.items]\n  File \"/Users/stewarta/repos/charity-filter-evaluation/char-env/lib/python3.7/site-packages/sklearn/externals/joblib/parallel.py\", line 225, in <listcomp>\n    for func, args, kwargs in self.items]\n  File \"/Users/stewarta/repos/charity-filter-evaluation/char-env/lib/python3.7/site-packages/sklearn/model_selection/_validation.py\", line 528, in _fit_and_score\n    estimator.fit(X_train, y_train, **fit_params)\n  File \"/Users/stewarta/repos/charity-filter-evaluation/char-env/lib/python3.7/site-packages/sklearn/pipeline.py\", line 265, in fit\n    Xt, fit_params = self._fit(X, y, **fit_params)\n  File \"/Users/stewarta/repos/charity-filter-evaluation/char-env/lib/python3.7/site-packages/sklearn/pipeline.py\", line 230, in _fit\n    **fit_params_steps[name])\n  File \"/Users/stewarta/repos/charity-filter-evaluation/char-env/lib/python3.7/site-packages/sklearn/externals/joblib/memory.py\", line 342, in __call__\n    return self.func(*args, **kwargs)\n  File \"/Users/stewarta/repos/charity-filter-evaluation/char-env/lib/python3.7/site-packages/sklearn/pipeline.py\", line 614, in _fit_transform_one\n    res = transformer.fit_transform(X, y, **fit_params)\n  File \"/Users/stewarta/repos/charity-filter-evaluation/char-env/lib/python3.7/site-packages/sklearn/feature_extraction/text.py\", line 1031, in fit_transform\n    self.fixed_vocabulary_)\n  File \"/Users/stewarta/repos/charity-filter-evaluation/char-env/lib/python3.7/site-packages/sklearn/feature_extraction/text.py\", line 935, in _count_vocab\n    analyze = self.build_analyzer()\n  File \"<ipython-input-13-a322c08b4539>\", line 9, in build_analyzer\nTypeError: super(type, obj): obj must be an instance or subtype of type\n\"\"\"",
      "\nThe above exception was the direct cause of the following exception:\n",
      "\u001b[0;31mTypeError\u001b[0m                                 Traceback (most recent call last)",
      "\u001b[0;32m<ipython-input-23-07bd03796620>\u001b[0m in \u001b[0;36m<module>\u001b[0;34m\u001b[0m\n\u001b[1;32m     10\u001b[0m     \u001b[0mprint\u001b[0m\u001b[0;34m(\u001b[0m\u001b[0;34m'\\nEstimator: %s'\u001b[0m \u001b[0;34m%\u001b[0m \u001b[0mgrid_dict\u001b[0m\u001b[0;34m[\u001b[0m\u001b[0midx\u001b[0m\u001b[0;34m]\u001b[0m\u001b[0;34m)\u001b[0m\u001b[0;34m\u001b[0m\u001b[0;34m\u001b[0m\u001b[0m\n\u001b[1;32m     11\u001b[0m     \u001b[0;31m# Fit grid search\u001b[0m\u001b[0;34m\u001b[0m\u001b[0;34m\u001b[0m\u001b[0;34m\u001b[0m\u001b[0m\n\u001b[0;32m---> 12\u001b[0;31m     \u001b[0mgs\u001b[0m\u001b[0;34m.\u001b[0m\u001b[0mfit\u001b[0m\u001b[0;34m(\u001b[0m\u001b[0mX_train\u001b[0m\u001b[0;34m,\u001b[0m \u001b[0my_train\u001b[0m\u001b[0;34m)\u001b[0m\u001b[0;34m\u001b[0m\u001b[0;34m\u001b[0m\u001b[0m\n\u001b[0m\u001b[1;32m     13\u001b[0m     \u001b[0;31m# Best params\u001b[0m\u001b[0;34m\u001b[0m\u001b[0;34m\u001b[0m\u001b[0;34m\u001b[0m\u001b[0m\n\u001b[1;32m     14\u001b[0m     \u001b[0mprint\u001b[0m\u001b[0;34m(\u001b[0m\u001b[0;34m'Best params: %s'\u001b[0m \u001b[0;34m%\u001b[0m \u001b[0mgs\u001b[0m\u001b[0;34m.\u001b[0m\u001b[0mbest_params_\u001b[0m\u001b[0;34m)\u001b[0m\u001b[0;34m\u001b[0m\u001b[0;34m\u001b[0m\u001b[0m\n",
      "\u001b[0;32m~/repos/charity-filter-evaluation/char-env/lib/python3.7/site-packages/sklearn/model_selection/_search.py\u001b[0m in \u001b[0;36mfit\u001b[0;34m(self, X, y, groups, **fit_params)\u001b[0m\n\u001b[1;32m    720\u001b[0m                 \u001b[0;32mreturn\u001b[0m \u001b[0mresults_container\u001b[0m\u001b[0;34m[\u001b[0m\u001b[0;36m0\u001b[0m\u001b[0;34m]\u001b[0m\u001b[0;34m\u001b[0m\u001b[0;34m\u001b[0m\u001b[0m\n\u001b[1;32m    721\u001b[0m \u001b[0;34m\u001b[0m\u001b[0m\n\u001b[0;32m--> 722\u001b[0;31m             \u001b[0mself\u001b[0m\u001b[0;34m.\u001b[0m\u001b[0m_run_search\u001b[0m\u001b[0;34m(\u001b[0m\u001b[0mevaluate_candidates\u001b[0m\u001b[0;34m)\u001b[0m\u001b[0;34m\u001b[0m\u001b[0;34m\u001b[0m\u001b[0m\n\u001b[0m\u001b[1;32m    723\u001b[0m \u001b[0;34m\u001b[0m\u001b[0m\n\u001b[1;32m    724\u001b[0m         \u001b[0mresults\u001b[0m \u001b[0;34m=\u001b[0m \u001b[0mresults_container\u001b[0m\u001b[0;34m[\u001b[0m\u001b[0;36m0\u001b[0m\u001b[0;34m]\u001b[0m\u001b[0;34m\u001b[0m\u001b[0;34m\u001b[0m\u001b[0m\n",
      "\u001b[0;32m~/repos/charity-filter-evaluation/char-env/lib/python3.7/site-packages/sklearn/model_selection/_search.py\u001b[0m in \u001b[0;36m_run_search\u001b[0;34m(self, evaluate_candidates)\u001b[0m\n\u001b[1;32m   1189\u001b[0m     \u001b[0;32mdef\u001b[0m \u001b[0m_run_search\u001b[0m\u001b[0;34m(\u001b[0m\u001b[0mself\u001b[0m\u001b[0;34m,\u001b[0m \u001b[0mevaluate_candidates\u001b[0m\u001b[0;34m)\u001b[0m\u001b[0;34m:\u001b[0m\u001b[0;34m\u001b[0m\u001b[0;34m\u001b[0m\u001b[0m\n\u001b[1;32m   1190\u001b[0m         \u001b[0;34m\"\"\"Search all candidates in param_grid\"\"\"\u001b[0m\u001b[0;34m\u001b[0m\u001b[0;34m\u001b[0m\u001b[0m\n\u001b[0;32m-> 1191\u001b[0;31m         \u001b[0mevaluate_candidates\u001b[0m\u001b[0;34m(\u001b[0m\u001b[0mParameterGrid\u001b[0m\u001b[0;34m(\u001b[0m\u001b[0mself\u001b[0m\u001b[0;34m.\u001b[0m\u001b[0mparam_grid\u001b[0m\u001b[0;34m)\u001b[0m\u001b[0;34m)\u001b[0m\u001b[0;34m\u001b[0m\u001b[0;34m\u001b[0m\u001b[0m\n\u001b[0m\u001b[1;32m   1192\u001b[0m \u001b[0;34m\u001b[0m\u001b[0m\n\u001b[1;32m   1193\u001b[0m \u001b[0;34m\u001b[0m\u001b[0m\n",
      "\u001b[0;32m~/repos/charity-filter-evaluation/char-env/lib/python3.7/site-packages/sklearn/model_selection/_search.py\u001b[0m in \u001b[0;36mevaluate_candidates\u001b[0;34m(candidate_params)\u001b[0m\n\u001b[1;32m    709\u001b[0m                                \u001b[0;32mfor\u001b[0m \u001b[0mparameters\u001b[0m\u001b[0;34m,\u001b[0m \u001b[0;34m(\u001b[0m\u001b[0mtrain\u001b[0m\u001b[0;34m,\u001b[0m \u001b[0mtest\u001b[0m\u001b[0;34m)\u001b[0m\u001b[0;34m\u001b[0m\u001b[0;34m\u001b[0m\u001b[0m\n\u001b[1;32m    710\u001b[0m                                in product(candidate_params,\n\u001b[0;32m--> 711\u001b[0;31m                                           cv.split(X, y, groups)))\n\u001b[0m\u001b[1;32m    712\u001b[0m \u001b[0;34m\u001b[0m\u001b[0m\n\u001b[1;32m    713\u001b[0m                 \u001b[0mall_candidate_params\u001b[0m\u001b[0;34m.\u001b[0m\u001b[0mextend\u001b[0m\u001b[0;34m(\u001b[0m\u001b[0mcandidate_params\u001b[0m\u001b[0;34m)\u001b[0m\u001b[0;34m\u001b[0m\u001b[0;34m\u001b[0m\u001b[0m\n",
      "\u001b[0;32m~/repos/charity-filter-evaluation/char-env/lib/python3.7/site-packages/sklearn/externals/joblib/parallel.py\u001b[0m in \u001b[0;36m__call__\u001b[0;34m(self, iterable)\u001b[0m\n\u001b[1;32m    928\u001b[0m \u001b[0;34m\u001b[0m\u001b[0m\n\u001b[1;32m    929\u001b[0m             \u001b[0;32mwith\u001b[0m \u001b[0mself\u001b[0m\u001b[0;34m.\u001b[0m\u001b[0m_backend\u001b[0m\u001b[0;34m.\u001b[0m\u001b[0mretrieval_context\u001b[0m\u001b[0;34m(\u001b[0m\u001b[0;34m)\u001b[0m\u001b[0;34m:\u001b[0m\u001b[0;34m\u001b[0m\u001b[0;34m\u001b[0m\u001b[0m\n\u001b[0;32m--> 930\u001b[0;31m                 \u001b[0mself\u001b[0m\u001b[0;34m.\u001b[0m\u001b[0mretrieve\u001b[0m\u001b[0;34m(\u001b[0m\u001b[0;34m)\u001b[0m\u001b[0;34m\u001b[0m\u001b[0;34m\u001b[0m\u001b[0m\n\u001b[0m\u001b[1;32m    931\u001b[0m             \u001b[0;31m# Make sure that we get a last message telling us we are done\u001b[0m\u001b[0;34m\u001b[0m\u001b[0;34m\u001b[0m\u001b[0;34m\u001b[0m\u001b[0m\n\u001b[1;32m    932\u001b[0m             \u001b[0melapsed_time\u001b[0m \u001b[0;34m=\u001b[0m \u001b[0mtime\u001b[0m\u001b[0;34m.\u001b[0m\u001b[0mtime\u001b[0m\u001b[0;34m(\u001b[0m\u001b[0;34m)\u001b[0m \u001b[0;34m-\u001b[0m \u001b[0mself\u001b[0m\u001b[0;34m.\u001b[0m\u001b[0m_start_time\u001b[0m\u001b[0;34m\u001b[0m\u001b[0;34m\u001b[0m\u001b[0m\n",
      "\u001b[0;32m~/repos/charity-filter-evaluation/char-env/lib/python3.7/site-packages/sklearn/externals/joblib/parallel.py\u001b[0m in \u001b[0;36mretrieve\u001b[0;34m(self)\u001b[0m\n\u001b[1;32m    831\u001b[0m             \u001b[0;32mtry\u001b[0m\u001b[0;34m:\u001b[0m\u001b[0;34m\u001b[0m\u001b[0;34m\u001b[0m\u001b[0m\n\u001b[1;32m    832\u001b[0m                 \u001b[0;32mif\u001b[0m \u001b[0mgetattr\u001b[0m\u001b[0;34m(\u001b[0m\u001b[0mself\u001b[0m\u001b[0;34m.\u001b[0m\u001b[0m_backend\u001b[0m\u001b[0;34m,\u001b[0m \u001b[0;34m'supports_timeout'\u001b[0m\u001b[0;34m,\u001b[0m \u001b[0;32mFalse\u001b[0m\u001b[0;34m)\u001b[0m\u001b[0;34m:\u001b[0m\u001b[0;34m\u001b[0m\u001b[0;34m\u001b[0m\u001b[0m\n\u001b[0;32m--> 833\u001b[0;31m                     \u001b[0mself\u001b[0m\u001b[0;34m.\u001b[0m\u001b[0m_output\u001b[0m\u001b[0;34m.\u001b[0m\u001b[0mextend\u001b[0m\u001b[0;34m(\u001b[0m\u001b[0mjob\u001b[0m\u001b[0;34m.\u001b[0m\u001b[0mget\u001b[0m\u001b[0;34m(\u001b[0m\u001b[0mtimeout\u001b[0m\u001b[0;34m=\u001b[0m\u001b[0mself\u001b[0m\u001b[0;34m.\u001b[0m\u001b[0mtimeout\u001b[0m\u001b[0;34m)\u001b[0m\u001b[0;34m)\u001b[0m\u001b[0;34m\u001b[0m\u001b[0;34m\u001b[0m\u001b[0m\n\u001b[0m\u001b[1;32m    834\u001b[0m                 \u001b[0;32melse\u001b[0m\u001b[0;34m:\u001b[0m\u001b[0;34m\u001b[0m\u001b[0;34m\u001b[0m\u001b[0m\n\u001b[1;32m    835\u001b[0m                     \u001b[0mself\u001b[0m\u001b[0;34m.\u001b[0m\u001b[0m_output\u001b[0m\u001b[0;34m.\u001b[0m\u001b[0mextend\u001b[0m\u001b[0;34m(\u001b[0m\u001b[0mjob\u001b[0m\u001b[0;34m.\u001b[0m\u001b[0mget\u001b[0m\u001b[0;34m(\u001b[0m\u001b[0;34m)\u001b[0m\u001b[0;34m)\u001b[0m\u001b[0;34m\u001b[0m\u001b[0;34m\u001b[0m\u001b[0m\n",
      "\u001b[0;32m~/repos/charity-filter-evaluation/char-env/lib/python3.7/site-packages/sklearn/externals/joblib/_parallel_backends.py\u001b[0m in \u001b[0;36mwrap_future_result\u001b[0;34m(future, timeout)\u001b[0m\n\u001b[1;32m    519\u001b[0m         AsyncResults.get from multiprocessing.\"\"\"\n\u001b[1;32m    520\u001b[0m         \u001b[0;32mtry\u001b[0m\u001b[0;34m:\u001b[0m\u001b[0;34m\u001b[0m\u001b[0;34m\u001b[0m\u001b[0m\n\u001b[0;32m--> 521\u001b[0;31m             \u001b[0;32mreturn\u001b[0m \u001b[0mfuture\u001b[0m\u001b[0;34m.\u001b[0m\u001b[0mresult\u001b[0m\u001b[0;34m(\u001b[0m\u001b[0mtimeout\u001b[0m\u001b[0;34m=\u001b[0m\u001b[0mtimeout\u001b[0m\u001b[0;34m)\u001b[0m\u001b[0;34m\u001b[0m\u001b[0;34m\u001b[0m\u001b[0m\n\u001b[0m\u001b[1;32m    522\u001b[0m         \u001b[0;32mexcept\u001b[0m \u001b[0mLokyTimeoutError\u001b[0m\u001b[0;34m:\u001b[0m\u001b[0;34m\u001b[0m\u001b[0;34m\u001b[0m\u001b[0m\n\u001b[1;32m    523\u001b[0m             \u001b[0;32mraise\u001b[0m \u001b[0mTimeoutError\u001b[0m\u001b[0;34m(\u001b[0m\u001b[0;34m)\u001b[0m\u001b[0;34m\u001b[0m\u001b[0;34m\u001b[0m\u001b[0m\n",
      "\u001b[0;32m/usr/local/Cellar/python/3.7.3/Frameworks/Python.framework/Versions/3.7/lib/python3.7/concurrent/futures/_base.py\u001b[0m in \u001b[0;36mresult\u001b[0;34m(self, timeout)\u001b[0m\n\u001b[1;32m    423\u001b[0m                 \u001b[0;32mraise\u001b[0m \u001b[0mCancelledError\u001b[0m\u001b[0;34m(\u001b[0m\u001b[0;34m)\u001b[0m\u001b[0;34m\u001b[0m\u001b[0;34m\u001b[0m\u001b[0m\n\u001b[1;32m    424\u001b[0m             \u001b[0;32melif\u001b[0m \u001b[0mself\u001b[0m\u001b[0;34m.\u001b[0m\u001b[0m_state\u001b[0m \u001b[0;34m==\u001b[0m \u001b[0mFINISHED\u001b[0m\u001b[0;34m:\u001b[0m\u001b[0;34m\u001b[0m\u001b[0;34m\u001b[0m\u001b[0m\n\u001b[0;32m--> 425\u001b[0;31m                 \u001b[0;32mreturn\u001b[0m \u001b[0mself\u001b[0m\u001b[0;34m.\u001b[0m\u001b[0m__get_result\u001b[0m\u001b[0;34m(\u001b[0m\u001b[0;34m)\u001b[0m\u001b[0;34m\u001b[0m\u001b[0;34m\u001b[0m\u001b[0m\n\u001b[0m\u001b[1;32m    426\u001b[0m \u001b[0;34m\u001b[0m\u001b[0m\n\u001b[1;32m    427\u001b[0m             \u001b[0mself\u001b[0m\u001b[0;34m.\u001b[0m\u001b[0m_condition\u001b[0m\u001b[0;34m.\u001b[0m\u001b[0mwait\u001b[0m\u001b[0;34m(\u001b[0m\u001b[0mtimeout\u001b[0m\u001b[0;34m)\u001b[0m\u001b[0;34m\u001b[0m\u001b[0;34m\u001b[0m\u001b[0m\n",
      "\u001b[0;32m/usr/local/Cellar/python/3.7.3/Frameworks/Python.framework/Versions/3.7/lib/python3.7/concurrent/futures/_base.py\u001b[0m in \u001b[0;36m__get_result\u001b[0;34m(self)\u001b[0m\n\u001b[1;32m    382\u001b[0m     \u001b[0;32mdef\u001b[0m \u001b[0m__get_result\u001b[0m\u001b[0;34m(\u001b[0m\u001b[0mself\u001b[0m\u001b[0;34m)\u001b[0m\u001b[0;34m:\u001b[0m\u001b[0;34m\u001b[0m\u001b[0;34m\u001b[0m\u001b[0m\n\u001b[1;32m    383\u001b[0m         \u001b[0;32mif\u001b[0m \u001b[0mself\u001b[0m\u001b[0;34m.\u001b[0m\u001b[0m_exception\u001b[0m\u001b[0;34m:\u001b[0m\u001b[0;34m\u001b[0m\u001b[0;34m\u001b[0m\u001b[0m\n\u001b[0;32m--> 384\u001b[0;31m             \u001b[0;32mraise\u001b[0m \u001b[0mself\u001b[0m\u001b[0;34m.\u001b[0m\u001b[0m_exception\u001b[0m\u001b[0;34m\u001b[0m\u001b[0;34m\u001b[0m\u001b[0m\n\u001b[0m\u001b[1;32m    385\u001b[0m         \u001b[0;32melse\u001b[0m\u001b[0;34m:\u001b[0m\u001b[0;34m\u001b[0m\u001b[0;34m\u001b[0m\u001b[0m\n\u001b[1;32m    386\u001b[0m             \u001b[0;32mreturn\u001b[0m \u001b[0mself\u001b[0m\u001b[0;34m.\u001b[0m\u001b[0m_result\u001b[0m\u001b[0;34m\u001b[0m\u001b[0;34m\u001b[0m\u001b[0m\n",
      "\u001b[0;31mTypeError\u001b[0m: super(type, obj): obj must be an instance or subtype of type"
     ]
    }
   ],
   "source": [
    "# Fit the grid search objects\n",
    "\n",
    "X_train, X_test, y_train, y_test = train_test_split(df.corpus, df.target, test_size=0.20, random_state=seed)\n",
    "\n",
    "print('Performing model optimizations...')\n",
    "best_acc = 0.0\n",
    "best_clf = 0\n",
    "best_gs = ''\n",
    "for idx, gs in enumerate(grids):\n",
    "    print('\\nEstimator: %s' % grid_dict[idx])\n",
    "    # Fit grid search\n",
    "    gs.fit(X_train, y_train)\n",
    "    # Best params \n",
    "    print('Best params: %s' % gs.best_params_)\n",
    "    # Best training data accuracy\n",
    "    print('Best training accuracy: %.3f' % gs.best_score_)\n",
    "    # Predict on test data with best params\n",
    "    y_pred = gs.predict(X_test)\n",
    "    # Test data accuracy of model with best params\n",
    "    print('Test set accuracy score for best params: %.3f ' % accuracy_score(y_test, y_pred))\n",
    "    # Track best (highest test accuracy) model\n",
    "    if accuracy_score(y_test, y_pred) > best_acc:\n",
    "        best_acc = accuracy_score(y_test, y_pred)\n",
    "        best_gs = gs\n",
    "        best_clf = idx\n",
    "print('\\nClassifier with best test set accuracy: %s' % grid_dict[best_clf])\n",
    "\n",
    "# Save best grid search pipeline to file\n",
    "#dump_file = 'best_gs_pipeline.pkl'\n",
    "#joblib.dump(best_gs, dump_file, compress=1)\n",
    "print('\\nSaved %s grid search pipeline to file: %s' % (grid_dict[best_clf], dump_file))"
   ]
  }
 ],
 "metadata": {
  "kernelspec": {
   "display_name": "Cause Evaluation",
   "language": "python",
   "name": "cause_eval_env"
  },
  "language_info": {
   "codemirror_mode": {
    "name": "ipython",
    "version": 3
   },
   "file_extension": ".py",
   "mimetype": "text/x-python",
   "name": "python",
   "nbconvert_exporter": "python",
   "pygments_lexer": "ipython3",
   "version": "3.7.3"
  },
  "toc-autonumbering": true
 },
 "nbformat": 4,
 "nbformat_minor": 4
}
