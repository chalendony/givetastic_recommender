{
 "cells": [
  {
   "cell_type": "markdown",
   "metadata": {},
   "source": [
    "# Introduction"
   ]
  },
  {
   "cell_type": "markdown",
   "metadata": {},
   "source": [
    "This notebook takes a list of company names randomly shuffles them. After shuffling the list is divided in groups of roughly the same size, for a person to use to collect company profiles."
   ]
  },
  {
   "cell_type": "code",
   "execution_count": 27,
   "metadata": {},
   "outputs": [],
   "source": [
    "# Imports\n",
    "from random import Random\n"
   ]
  },
  {
   "cell_type": "markdown",
   "metadata": {},
   "source": [
    "# Constants & Functions"
   ]
  },
  {
   "cell_type": "code",
   "execution_count": 24,
   "metadata": {},
   "outputs": [],
   "source": [
    "# file containing the list of company names\n",
    "company_names = 'company_names.txt'\n",
    "\n",
    "# people who will gather profiles\n",
    "workers = ['sina', 'avare', 'heinrich']\n",
    "\n",
    "# create a seed so we get the same partition for each run\n",
    "random_seed = 4 \n",
    "\n",
    "def partition(lst, n):\n",
    "    Random(random_seed).shuffle(lst)\n",
    "    return [lst[i::n] for i in range(n)]"
   ]
  },
  {
   "cell_type": "code",
   "execution_count": 71,
   "metadata": {},
   "outputs": [],
   "source": [
    "# read list of company names from file\n",
    "with open(company_names) as f:\n",
    "    lines = list(line.strip() for line in (l.strip() for l in f) if line)"
   ]
  },
  {
   "cell_type": "code",
   "execution_count": 72,
   "metadata": {},
   "outputs": [
    {
     "name": "stdout",
     "output_type": "stream",
     "text": [
      "None\n",
      "None\n",
      "None\n"
     ]
    }
   ],
   "source": [
    "# partition into groups and sort each group\n",
    "groups = partition(lines, len(workers))\n",
    "for i in range(len(workers)):\n",
    "    groups[i].sort()"
   ]
  },
  {
   "cell_type": "code",
   "execution_count": 75,
   "metadata": {},
   "outputs": [
    {
     "name": "stdout",
     "output_type": "stream",
     "text": [
      "sina.xlsx\n",
      "avare.xlsx\n",
      "heinrich.xlsx\n"
     ]
    }
   ],
   "source": [
    "# write groups to a file\n",
    "for i in range(len(workers)):\n",
    "    outfile = workers[i] + \".xlsx\"\n",
    "    print(outfile)\n",
    "    with open(outfile, \"w\") as file:\n",
    "        file.write(\"\\t\".join(groups[i]))"
   ]
  }
 ],
 "metadata": {
  "kernelspec": {
   "display_name": "Givetastic Recommender",
   "language": "python",
   "name": "gt_recommender"
  },
  "language_info": {
   "codemirror_mode": {
    "name": "ipython",
    "version": 3
   },
   "file_extension": ".py",
   "mimetype": "text/x-python",
   "name": "python",
   "nbconvert_exporter": "python",
   "pygments_lexer": "ipython3",
   "version": "3.7.3"
  }
 },
 "nbformat": 4,
 "nbformat_minor": 4
}
