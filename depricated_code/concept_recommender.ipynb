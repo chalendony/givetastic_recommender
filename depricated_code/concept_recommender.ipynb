{
 "cells": [
  {
   "cell_type": "markdown",
   "metadata": {},
   "source": [
    "# Example Recommender\n",
    "assumption: \n",
    "\n",
    "each image represents a only one goal\n",
    "each goal can have several images (5)\n",
    "each image has a unique id \n",
    "\n",
    "\n",
    "create mapping of image-to-goals (ignore goal text)\n",
    "\n",
    "create artificial profiles [image ids], assuming the user has selected 5 images that represent SDG goals.\n",
    "\n",
    "if the user selects an image-to-goal multiple times then increase the weight of the goal  \n",
    "create user interface\n",
    "\n",
    "Example:\n",
    "1:  1,2,3,4,5\n",
    "2: 6,7,8,9,\n"
   ]
  },
  {
   "cell_type": "code",
   "execution_count": 59,
   "metadata": {},
   "outputs": [],
   "source": [
    "import numpy\n",
    "import random"
   ]
  },
  {
   "cell_type": "markdown",
   "metadata": {},
   "source": [
    "## Set Parameters"
   ]
  },
  {
   "cell_type": "code",
   "execution_count": 73,
   "metadata": {},
   "outputs": [],
   "source": [
    "nrgoals = 10\n",
    "nr_images_per_goal = 5\n",
    "nr_users = 7\n",
    "nr_selections = 5"
   ]
  },
  {
   "cell_type": "markdown",
   "metadata": {},
   "source": [
    "# Create Example Images"
   ]
  },
  {
   "cell_type": "code",
   "execution_count": 74,
   "metadata": {},
   "outputs": [
    {
     "name": "stdout",
     "output_type": "stream",
     "text": [
      "There are 10 goals.\n",
      "There are 50 images.\n",
      "There are 5 images for each goal.\n",
      "\n",
      "The goals and image ids are: \n",
      "{1: [1, 2, 3, 4, 5], 2: [6, 7, 8, 9, 10], 3: [11, 12, 13, 14, 15], 4: [16, 17, 18, 19, 20], 5: [21, 22, 23, 24, 25], 6: [26, 27, 28, 29, 30], 7: [31, 32, 33, 34, 35], 8: [36, 37, 38, 39, 40], 9: [41, 42, 43, 44, 45], 10: [46, 47, 48, 49, 50]}\n"
     ]
    }
   ],
   "source": [
    "def create_image_data():\n",
    "    \n",
    "    counter = 1\n",
    "    im = {}\n",
    "\n",
    "    for i in range(1,nr_goals+1):\n",
    "        lst = []\n",
    "        for j in range(1,nr_images_per_goal+1):\n",
    "            lst.append(counter)\n",
    "            counter = counter + 1\n",
    "        im[i] = lst\n",
    "    return im\n",
    "\n",
    "def count_images(images):\n",
    "    nr_images = nr_goals * nr_images_per_goal\n",
    "    return nr_images\n",
    "    \n",
    "    \n",
    "images = create_image_data()\n",
    "print(f\"There are {len(images)} goals.\")\n",
    "print(f\"There are {count_images(images)} images.\")\n",
    "print(f\"There are {nr_images_per_goal} images for each goal.\")\n",
    "print(f\"\\nThe goals and image ids are: \\n{images}\")"
   ]
  },
  {
   "cell_type": "markdown",
   "metadata": {},
   "source": [
    "## Users Select Some Images"
   ]
  },
  {
   "cell_type": "code",
   "execution_count": 89,
   "metadata": {},
   "outputs": [
    {
     "data": {
      "text/plain": [
       "{1: array([16, 21, 22, 19, 39]),\n",
       " 2: array([45, 12, 33, 41, 36]),\n",
       " 3: array([41,  7, 14, 13,  9]),\n",
       " 4: array([23, 23, 18, 26, 22]),\n",
       " 5: array([24, 21,  9, 15, 33]),\n",
       " 6: array([33, 44, 29, 44, 49]),\n",
       " 7: array([36, 23, 27, 35, 14])}"
      ]
     },
     "execution_count": 89,
     "metadata": {},
     "output_type": "execute_result"
    }
   ],
   "source": [
    "def user_select_images(images):\n",
    "    \n",
    "    selections = {}\n",
    "    nr_images = count_images(images)\n",
    "    random.seed(30)\n",
    "    profile = numpy.random.randint(1, nr_images, size=(nr_users, nr_selections))\n",
    "    for i in range(len(profile)):\n",
    "        selections[i+1] = profile[i]\n",
    "    return selections\n",
    "    \n",
    "selections = user_select_images(images)\n",
    "selections"
   ]
  },
  {
   "cell_type": "markdown",
   "metadata": {},
   "source": [
    "## Show Examples of  Selected Images"
   ]
  },
  {
   "cell_type": "code",
   "execution_count": 90,
   "metadata": {},
   "outputs": [
    {
     "name": "stdout",
     "output_type": "stream",
     "text": [
      " The images selected for user 2 are: [45 12 33 41 36]\n",
      " The images selected for user 3 are: [41  7 14 13  9]\n"
     ]
    }
   ],
   "source": [
    "print(f\" The images selected for user 2 are: {selections[2]}\")\n",
    "\n",
    "print(f\" The images selected for user 3 are: {selections[3]}\")"
   ]
  },
  {
   "cell_type": "markdown",
   "metadata": {},
   "source": [
    "## Create User Profile"
   ]
  },
  {
   "cell_type": "code",
   "execution_count": 113,
   "metadata": {},
   "outputs": [
    {
     "name": "stdout",
     "output_type": "stream",
     "text": [
      "1 [16 21 22 19 39] =============\n",
      "sdg: 1 : 0\n",
      "sdg: 2 : 0\n",
      "sdg: 3 : 0\n",
      "sdg: 4 : 2\n",
      "sdg: 5 : 2\n",
      "sdg: 6 : 0\n",
      "sdg: 7 : 0\n",
      "sdg: 8 : 1\n",
      "sdg: 9 : 0\n",
      "sdg: 10 : 0\n",
      "2 [45 12 33 41 36] =============\n",
      "sdg: 1 : 0\n",
      "sdg: 2 : 0\n",
      "sdg: 3 : 1\n",
      "sdg: 4 : 0\n",
      "sdg: 5 : 0\n",
      "sdg: 6 : 0\n",
      "sdg: 7 : 1\n",
      "sdg: 8 : 1\n",
      "sdg: 9 : 2\n",
      "sdg: 10 : 0\n",
      "3 [41  7 14 13  9] =============\n",
      "sdg: 1 : 0\n",
      "sdg: 2 : 2\n",
      "sdg: 3 : 2\n",
      "sdg: 4 : 0\n",
      "sdg: 5 : 0\n",
      "sdg: 6 : 0\n",
      "sdg: 7 : 0\n",
      "sdg: 8 : 0\n",
      "sdg: 9 : 1\n",
      "sdg: 10 : 0\n",
      "4 [23 23 18 26 22] =============\n",
      "sdg: 1 : 0\n",
      "sdg: 2 : 0\n",
      "sdg: 3 : 0\n",
      "sdg: 4 : 1\n",
      "sdg: 5 : 2\n",
      "sdg: 6 : 1\n",
      "sdg: 7 : 0\n",
      "sdg: 8 : 0\n",
      "sdg: 9 : 0\n",
      "sdg: 10 : 0\n",
      "5 [24 21  9 15 33] =============\n",
      "sdg: 1 : 0\n",
      "sdg: 2 : 1\n",
      "sdg: 3 : 1\n",
      "sdg: 4 : 0\n",
      "sdg: 5 : 2\n",
      "sdg: 6 : 0\n",
      "sdg: 7 : 1\n",
      "sdg: 8 : 0\n",
      "sdg: 9 : 0\n",
      "sdg: 10 : 0\n",
      "6 [33 44 29 44 49] =============\n",
      "sdg: 1 : 0\n",
      "sdg: 2 : 0\n",
      "sdg: 3 : 0\n",
      "sdg: 4 : 0\n",
      "sdg: 5 : 0\n",
      "sdg: 6 : 1\n",
      "sdg: 7 : 1\n",
      "sdg: 8 : 0\n",
      "sdg: 9 : 1\n",
      "sdg: 10 : 1\n",
      "7 [36 23 27 35 14] =============\n",
      "sdg: 1 : 0\n",
      "sdg: 2 : 0\n",
      "sdg: 3 : 1\n",
      "sdg: 4 : 0\n",
      "sdg: 5 : 1\n",
      "sdg: 6 : 1\n",
      "sdg: 7 : 1\n",
      "sdg: 8 : 1\n",
      "sdg: 9 : 0\n",
      "sdg: 10 : 0\n"
     ]
    }
   ],
   "source": [
    "def intersection(lst1, lst2): \n",
    "    lst3 = [value for value in lst1 if value in lst2] \n",
    "    return lst3 \n",
    "\n",
    "def create_user_profile(selections):\n",
    "    users = len(selections)\n",
    "    features = nrgoals\n",
    "    \n",
    "    for user_key,user_images in selections.items(): ## user choices\n",
    "        print(f\"{user_key} {user_images} =============\")\n",
    "        for sdg,image_ids in images.items(): # actual images\n",
    "            c = intersection(image_ids, user_images)\n",
    "            print(f\"sdg: {sdg} : {len(c)}\")\n",
    "\n",
    "create_user_profile(selections)   "
   ]
  }
 ],
 "metadata": {
  "kernelspec": {
   "display_name": "Givetastic Recommender",
   "language": "python",
   "name": "gt_recommender"
  },
  "language_info": {
   "codemirror_mode": {
    "name": "ipython",
    "version": 3
   },
   "file_extension": ".py",
   "mimetype": "text/x-python",
   "name": "python",
   "nbconvert_exporter": "python",
   "pygments_lexer": "ipython3",
   "version": "3.7.3"
  }
 },
 "nbformat": 4,
 "nbformat_minor": 4
}
