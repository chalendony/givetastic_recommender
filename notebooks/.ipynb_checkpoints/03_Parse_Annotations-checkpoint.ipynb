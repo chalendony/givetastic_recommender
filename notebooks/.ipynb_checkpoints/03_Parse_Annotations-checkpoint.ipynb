{
 "cells": [
  {
   "cell_type": "markdown",
   "metadata": {},
   "source": [
    "# Introduction\n",
    "\n",
    "Parse the labels that have been manually assigned to a documents"
   ]
  },
  {
   "cell_type": "markdown",
   "metadata": {},
   "source": [
    "# Imports"
   ]
  },
  {
   "cell_type": "code",
   "execution_count": 1,
   "metadata": {},
   "outputs": [],
   "source": [
    "import jsonlines\n",
    "from tld import get_tld"
   ]
  },
  {
   "cell_type": "markdown",
   "metadata": {},
   "source": [
    "# Constants"
   ]
  },
  {
   "cell_type": "code",
   "execution_count": 2,
   "metadata": {},
   "outputs": [
    {
     "name": "stdout",
     "output_type": "stream",
     "text": [
      "./data/doccano.json1\n",
      "{'id': 2, 'text': \"Environmental and Climate Protection - Bayer\\n\\n\\n\\n\\n\\n\\n\\n\\n\\n\\n\\n\\n\\n\\n\\n\\n\\n\\n\\n\\n\\n\\n\\n\\n\\nContact usDeutsch\\n\\n\\n\\n\\nGlobal\\nDESearchMenu\\n\\nHome\\nThis is Bayer\\n\\nThis is BayerBayer is a global enterprise with core competencies in the Life Science fields of health care and agriculture.\\nOverviewOverview\\nProfile and Organization\\nOur Commitments\\nSocietal Needs\\nBayer Employees\\nBayer Worldwide\\nProcurement\\nCorporate Compliance\\nCorporate Governance\\nHistory\\nBoard of Management\\nSupervisory Board\\nCalendar\\nContact Us\\n\\n\\nInnovation\\n\\nInnovationBayer is an innovation company with a more than 150-year history. Our scientific successes are intended to help improve people’s lives.\\nOverviewOverview\\nNews on Innovation\\nResearch and Development\\nOpen Innovation\\nSocial Innovation\\nEmployee Innovation\\nresearch – The Bayer Scientific Magazine\\n\\n\\nProducts\\n\\nProductsWith our distinctive knowledge of people, animals and plants, we focus on the areas of health care and nutrition.\\nOverviewOverview\\nProduct Areas\\nInformation for Patients\\nBeware of Medical Counterfeits\\nCounterfeits in Agriculture\\nReport a Side-Effect\\nProducts from A to Z \\n\\n\\nSustainability\\n\\nSustainabilityRead more about our economic, ecological and social challenges and opportunities.\\nOverviewOverview\\nStrategy\\nOverview\\nDevelopment\\nUN Global Compact\\n\\n\\nKey Topics\\nHealthcare\\nFood Security\\nEnvironmental-and-climate-protection\\n\\n\\nManagement and Governance\\nSustainability Management\\nStakeholder Dialogue\\nBayer Group Regulations\\nSustainable Development Policy\\nCorporate Compliance Policy\\nSupplier Code of Conduct\\nResponsible Marketing & Sales Group Regulation\\nCode of Conduct for Responsible Lobbying\\nBayer Human Rights Position\\nModern Slavery Act Statement\\nPosition on Responsible Care\\n\\n\\nBayer Positions\\nUN Sustainable Development Goals\\nPosition on Global Product Strategy\\nBayer Water Position\\nProtection of Biodiversity\\n\\n\\n\\n\\nSupplier Management\\nEmployees\\nProduct Stewardship\\nOverview\\nDrugs & Medical Products\\nCrop Protection Products & Seeds\\nAntibiotics for Animals\\n\\n\\nPartnerships\\nEnvironmental Protection\\nSafety\\nSocietal Engagement\\nOverview\\nScience Education\\nHealth, Nutrition and Social Needs\\nBayer Clubs\\nSports\\nBayer and Sports\\nSuccessful Bayer Athletes\\nHistory\\nDisabled Sports\\nParalympics 2016\\nPromotion of New Talent\\nBayer 04 Leverkusen\\n\\n\\nCulture\\n\\n\\nReport\\nRatings, Rankings and Awards\\n\\n\\nMedia\\n\\nMediaThis area provides news, videos and publications, as well as overviews of social media channels and mobile apps of the Bayer Group.\\nOverviewOverview\\n\\nNews\\n\\n\\n\\nBiographies\\n\\n\\n\\nSpeeches\\n\\n\\n\\nPhotos\\n\\nTV Footage\\nPublications\\nVideos\\nSocial Media\\nApps\\nEvents\\nMedia Contact\\n\\n\\nInvestors\\n\\nInvestorsWe want to create value for our shareholders through innovation, growth and high earning power.\\nOverviewOverview\\n\\nBayer Group\\n\\n\\n\\nStock\\n\\n\\n\\nDebt\\n\\n\\n\\nReports\\n\\nAnnual Stockholders' Meeting 2020\\n\\nEvents\\n\\n\\n\\nInside Information\\n\\n\\n\\nNews\\n\\n\\n\\nHandouts\\n\\n\\n\\nDownloads\\n\\n\\n\\nService\\n\\n\\n\\nCareer\\n\\nCareerLooking for a job in an innovative company? Learn more about Bayer and the opportunities available.\\nOverview\\n\\n\\nMagazine\\n\\n\\nSearch\\n\\n\\nContact us\\n\\n\\n\\n\\n\\nHomeSustainabilityKey TopicsEnvironmental-and-climate-protectionPrintShare\\n\\nKey Topics\\nEnvironmental and Climate Protection\\n\\n\\n\\n\\n\\n\\n\\n\\nOverviewStrategyOverviewDevelopmentUN Global CompactKey TopicsHealthcareFood SecurityEnvironmental-and-climate-protectionManagement and GovernanceSustainability ManagementStakeholder DialogueBayer Group RegulationsSustainable Development PolicyCorporate Compliance PolicySupplier Code of ConductResponsible Marketing & Sales Group RegulationCode of Conduct for Responsible LobbyingBayer Human Rights PositionModern Slavery Act StatementPosition on Responsible CareBayer PositionsUN Sustainable Development GoalsPosition on Global Product StrategyBayer Water PositionProtection of BiodiversitySupplier ManagementEmployeesProduct StewardshipOverviewDrugs & Medical ProductsCrop Protection Products & SeedsAntibiotics for AnimalsPartnershipsEnvironmental ProtectionSafetySocietal EngagementOverviewScience EducationHealth, Nutrition and Social NeedsBayer ClubsSportsBayer and SportsSuccessful Bayer AthletesHistoryDisabled SportsParalympics 2016Promotion of New TalentBayer 04 LeverkusenCultureReportRatings, Rankings and Awards\\r\\n      \\xa0\\r\\n    \\n\\n\\n\\nOur ecosystem is already over-burdened in certain respects, particularly with regard to biodiversity and the nitrate input into our soil. The expanses the agricultural industry uses for cultivation make it one of the contributors to these problems. It is also responsible for generating almost a quarter of greenhouse gas emissions and accounts for nearly 70 percent of water consumption. As a leading agricultural company, we are conscious of these issues and consider it our responsibility to develop far-reaching solutions. We see this as our duty\\xa0and aim to include the entire value-added chain in the process.\\nWe have therefore set ourselves the following ecological targets for the period 2020 to 2030:\\n\\nThe company shall become carbon-neutral.To accomplish this, Bayer will implement energy efficiency measures, switch to 100 percent electricity from renewable energies and offset the remaining emissions through biodiversity-enhancing carbon capture.In addition, the company will encourage its suppliers and the entire value-added chain even more to reduce greenhouse gas emissions.\\nA 30 percent reduction of field greenhouse gas footprint (per kilogram of yield) of the most emitting cropping systems in regions Bayer operates.This includes Bayer helping farmers to use climate-friendly methods, such as reducing plowing, which can release CO2 sequestered in the soil.\\nA 30-percent reduction of the environmental impact of crop protection everywhere we operate.We aim to achieve this by developing new technologies that enable farmers to scale down crop protection product volumes and enable more precise application.\\n\\nAbove and beyond that, Bayer will engage in further climate-related and environmental efforts – such as supporting projects to preserve (rain) forests and using more environmentally friendly packaging materials throughout the Group.\\n\\n\\n\\n\\nFollow Us\\n\\nfacebook\\ntwitter\\nYouTube\\nLinkedIn\\nInstagram\\nRSS\\n\\n\\n\\n\\n\\n\\n\\r\\n  \\r\\n        Last updated: December 10, 2019\\r\\n\\n\\n\\n\\nOur Business\\n\\nPharmaceuticals\\nConsumer\\xa0Health\\nCrop Science\\nAnimal Health\\nOur Products\\nBayer Worldwide\\n\\n\\n\\nMagazines & Reports\\n\\nBayer Magazine\\nresearch Magazine\\nAnnual Report\\nQuarterly Report\\nMore Publications\\n\\n\\n\\nStay Tuned\\n\\nJob Postings\\nLatest News\\nNewsletter\\nBayer Share Price\\n\\n\\n\\nGet in Touch\\nDo you have any queries or comments about our website, our products or any of our services?Contact us\\n\\nFollow Us\\n\\nFacebook\\nTwitter\\nYouTube\\nLinkedIn\\nInstagram\\nRSS\\n\\n\\n\\n\\nTop\\n\\nCopyright © Bayer AG\\nSitemap\\n\\nConditions of Use\\nPrivacy Statement\\nImprint\\n\\nhttps://www.bayer.com\", 'meta': {'wikiPageID': 1}, 'annotation_approver': None, 'labels': [[4207, 6067, 'respo_produ_consu']]}\n",
      "2\n",
      "start: 4207, stop: 6067, label: respo_produ_consu\n",
      "Our ecosystem is already over-burdened in certain respects, particularly with regard to biodiversity and the nitrate input into our soil. The expanses the agricultural industry uses for cultivation make it one of the contributors to these problems. It is also responsible for generating almost a quarter of greenhouse gas emissions and accounts for nearly 70 percent of water consumption. As a leading agricultural company, we are conscious of these issues and consider it our responsibility to develop far-reaching solutions. We see this as our duty and aim to include the entire value-added chain in the process.\n",
      "We have therefore set ourselves the following ecological targets for the period 2020 to 2030:\n",
      "\n",
      "The company shall become carbon-neutral.To accomplish this, Bayer will implement energy efficiency measures, switch to 100 percent electricity from renewable energies and offset the remaining emissions through biodiversity-enhancing carbon capture.In addition, the company will encourage its suppliers and the entire value-added chain even more to reduce greenhouse gas emissions.\n",
      "A 30 percent reduction of field greenhouse gas footprint (per kilogram of yield) of the most emitting cropping systems in regions Bayer operates.This includes Bayer helping farmers to use climate-friendly methods, such as reducing plowing, which can release CO2 sequestered in the soil.\n",
      "A 30-percent reduction of the environmental impact of crop protection everywhere we operate.We aim to achieve this by developing new technologies that enable farmers to scale down crop protection product volumes and enable more precise application.\n",
      "\n",
      "Above and beyond that, Bayer will engage in further climate-related and environmental efforts – such as supporting projects to preserve (rain) forests and using more environmentally friendly packaging materials throughout the Group.\n"
     ]
    }
   ],
   "source": [
    "data_path = './data'\n",
    "annotated = data_path + '/' + 'doccano.json1'\n",
    "print(annotated)\n",
    "\n",
    "with jsonlines.open(annotated) as reader:\n",
    "    for obj in reader:\n",
    "        print(obj)\n",
    "        print(obj['id'])\n",
    "        #print(obj['text'])\n",
    "        #print(obj['labels'])\n",
    "        labels = obj['labels']\n",
    "        for i in labels:\n",
    "            # offset\n",
    "            start = i[0] \n",
    "            stop = i[1]\n",
    "            label = i[2]\n",
    "            print(f\"start: {start}, stop: {stop}, label: {label}\")\n",
    "            \n",
    "            # text\n",
    "            text = obj['text']\n",
    "            clean = text[start:stop]\n",
    "            print(clean)\n",
    "            \n",
    "            # url\n",
    "            ### TODO"
   ]
  },
  {
   "cell_type": "code",
   "execution_count": null,
   "metadata": {},
   "outputs": [],
   "source": [
    "company_name = extract_name_from_url(url)\n",
    "\n",
    "with jsonlines.open('output.jsonl', mode='w') as writer:\n",
    "    writer.write({'text':text, 'meta':{\"wikiPageID\": 1}})"
   ]
  },
  {
   "cell_type": "code",
   "execution_count": null,
   "metadata": {},
   "outputs": [],
   "source": []
  }
 ],
 "metadata": {
  "kernelspec": {
   "display_name": "Givetastic Recommender",
   "language": "python",
   "name": "gt_recommender"
  },
  "language_info": {
   "codemirror_mode": {
    "name": "ipython",
    "version": 3
   },
   "file_extension": ".py",
   "mimetype": "text/x-python",
   "name": "python",
   "nbconvert_exporter": "python",
   "pygments_lexer": "ipython3",
   "version": "3.7.3"
  }
 },
 "nbformat": 4,
 "nbformat_minor": 4
}
